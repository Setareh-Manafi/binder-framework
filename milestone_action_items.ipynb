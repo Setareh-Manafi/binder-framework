{
 "cells": [
  {
   "cell_type": "code",
   "execution_count": 4,
   "id": "a189a682",
   "metadata": {},
   "outputs": [
    {
     "ename": "NameError",
     "evalue": "name 'matplotlib' is not defined",
     "output_type": "error",
     "traceback": [
      "\u001b[0;31m---------------------------------------------------------------------------\u001b[0m",
      "\u001b[0;31mNameError\u001b[0m                                 Traceback (most recent call last)",
      "Input \u001b[0;32mIn [4]\u001b[0m, in \u001b[0;36m<cell line: 5>\u001b[0;34m()\u001b[0m\n\u001b[1;32m      2\u001b[0m \u001b[38;5;28;01mimport\u001b[39;00m \u001b[38;5;21;01mnumpy\u001b[39;00m \u001b[38;5;28;01mas\u001b[39;00m \u001b[38;5;21;01mnp\u001b[39;00m\n\u001b[1;32m      3\u001b[0m \u001b[38;5;28;01mimport\u001b[39;00m \u001b[38;5;21;01mmatplotlib\u001b[39;00m\u001b[38;5;21;01m.\u001b[39;00m\u001b[38;5;21;01mpyplot\u001b[39;00m \u001b[38;5;28;01mas\u001b[39;00m \u001b[38;5;21;01mplt\u001b[39;00m\n\u001b[0;32m----> 5\u001b[0m \u001b[38;5;28mprint\u001b[39m(\u001b[38;5;124m'\u001b[39m\u001b[38;5;124mnumpy ==\u001b[39m\u001b[38;5;124m'\u001b[39m, np\u001b[38;5;241m.\u001b[39m__version__, \u001b[38;5;124m'\u001b[39m\u001b[38;5;124m,\u001b[39m\u001b[38;5;124m'\u001b[39m ,\u001b[38;5;124m'\u001b[39m\u001b[38;5;124mpandas ==\u001b[39m\u001b[38;5;124m'\u001b[39m, pd\u001b[38;5;241m.\u001b[39m__version__,\u001b[38;5;124m'\u001b[39m\u001b[38;5;124m,\u001b[39m\u001b[38;5;124m'\u001b[39m,\u001b[38;5;124m'\u001b[39m\u001b[38;5;124mmatplotlib==\u001b[39m\u001b[38;5;124m'\u001b[39m ,\u001b[43mmatplotlib\u001b[49m\u001b[38;5;241m.\u001b[39m__version__)\n",
      "\u001b[0;31mNameError\u001b[0m: name 'matplotlib' is not defined"
     ]
    }
   ],
   "source": [
    "import pandas as pd\n",
    "import numpy as np\n",
    "import matplotlib.pyplot as plt\n",
    "\n",
    "print('numpy ==', np.__version__, ',' ,'pandas ==', pd.__version__,',','matplotlib==' ,matplotlib.__version__)\n"
   ]
  },
  {
   "cell_type": "markdown",
   "id": "7b318288",
   "metadata": {},
   "source": [
    "## Day4"
   ]
  },
  {
   "cell_type": "markdown",
   "id": "b6ea0dbe",
   "metadata": {},
   "source": [
    "Milestone Action Items\n",
    "\n",
    "Download the data set about Value of Energy Cost Saving Program for businesses in New York City (under the \"Export\" option, there is a way to retrieve a CSV file). Answer the following questions.\n",
    "\n",
    "1) How many different companies are represented in the data set?\n",
    "\n",
    "2) What is the total number of jobs created for businesses in Queens?\n",
    "\n",
    "3) How many different unique email domains names are there in the data set?\n",
    "\n",
    "4) Considering only NTAs with at least 5 listed businesses, what is the average total savings and the total jobs created for each NTA?\n",
    "\n",
    "5) Save your result for the previous question as a CSV file."
   ]
  },
  {
   "cell_type": "code",
   "execution_count": 1,
   "id": "61a46b5d",
   "metadata": {},
   "outputs": [],
   "source": [
    "import pandas as pd\n",
    "pd.set_option(\"display.max_columns\", None)\n",
    "df = pd.read_csv('Value_of_Energy_Cost_Savings_Program_Savings_for_Businesses_-_FY2020.csv')"
   ]
  },
  {
   "cell_type": "code",
   "execution_count": 2,
   "id": "07b3f18c",
   "metadata": {},
   "outputs": [
    {
     "data": {
      "text/html": [
       "<div>\n",
       "<style scoped>\n",
       "    .dataframe tbody tr th:only-of-type {\n",
       "        vertical-align: middle;\n",
       "    }\n",
       "\n",
       "    .dataframe tbody tr th {\n",
       "        vertical-align: top;\n",
       "    }\n",
       "\n",
       "    .dataframe thead th {\n",
       "        text-align: right;\n",
       "    }\n",
       "</style>\n",
       "<table border=\"1\" class=\"dataframe\">\n",
       "  <thead>\n",
       "    <tr style=\"text-align: right;\">\n",
       "      <th></th>\n",
       "      <th>Company Name</th>\n",
       "      <th>company contact</th>\n",
       "      <th>company email</th>\n",
       "      <th>company phone</th>\n",
       "      <th>Address</th>\n",
       "      <th>City</th>\n",
       "      <th>State</th>\n",
       "      <th>Postcode</th>\n",
       "      <th>Industry</th>\n",
       "      <th>Industry descr</th>\n",
       "      <th>Company Type</th>\n",
       "      <th>Current fulltime</th>\n",
       "      <th>Job created</th>\n",
       "      <th>Job retain</th>\n",
       "      <th>Effective Date</th>\n",
       "      <th>Total Savings</th>\n",
       "      <th>Savings from beginning receiving benefits</th>\n",
       "      <th>Borough</th>\n",
       "      <th>Latitude</th>\n",
       "      <th>Longitude</th>\n",
       "      <th>Community Board</th>\n",
       "      <th>Council District</th>\n",
       "      <th>Census Tract</th>\n",
       "      <th>BIN</th>\n",
       "      <th>BBL</th>\n",
       "      <th>NTA</th>\n",
       "    </tr>\n",
       "  </thead>\n",
       "  <tbody>\n",
       "    <tr>\n",
       "      <th>0</th>\n",
       "      <td>1 State Street</td>\n",
       "      <td>David Neiburg</td>\n",
       "      <td>eskoblo@energyspec.com</td>\n",
       "      <td>7186779077</td>\n",
       "      <td>1114 Avenue J</td>\n",
       "      <td>Brooklyn</td>\n",
       "      <td>NY</td>\n",
       "      <td>11230</td>\n",
       "      <td>Commercial</td>\n",
       "      <td>35 story building</td>\n",
       "      <td>LMEP</td>\n",
       "      <td>NaN</td>\n",
       "      <td>NaN</td>\n",
       "      <td>NaN</td>\n",
       "      <td>03/04/2005</td>\n",
       "      <td>0.00</td>\n",
       "      <td>349.78</td>\n",
       "      <td>Brooklyn</td>\n",
       "      <td>40.624784</td>\n",
       "      <td>-73.964920</td>\n",
       "      <td>314.0</td>\n",
       "      <td>44.0</td>\n",
       "      <td>534.0</td>\n",
       "      <td>3179818.0</td>\n",
       "      <td>3.067130e+09</td>\n",
       "      <td>Midwood</td>\n",
       "    </tr>\n",
       "    <tr>\n",
       "      <th>1</th>\n",
       "      <td>100 Church LLC</td>\n",
       "      <td>Edward A. Carroll</td>\n",
       "      <td>NaN</td>\n",
       "      <td>2125663000</td>\n",
       "      <td>100 Church Street</td>\n",
       "      <td>NY</td>\n",
       "      <td>NY</td>\n",
       "      <td>10007</td>\n",
       "      <td>Commercial</td>\n",
       "      <td>21 Floors</td>\n",
       "      <td>LMEP</td>\n",
       "      <td>NaN</td>\n",
       "      <td>NaN</td>\n",
       "      <td>NaN</td>\n",
       "      <td>04/02/2008</td>\n",
       "      <td>136578.20</td>\n",
       "      <td>4423698.05</td>\n",
       "      <td>New York</td>\n",
       "      <td>40.712968</td>\n",
       "      <td>-74.009490</td>\n",
       "      <td>101.0</td>\n",
       "      <td>1.0</td>\n",
       "      <td>21.0</td>\n",
       "      <td>1001409.0</td>\n",
       "      <td>1.001250e+09</td>\n",
       "      <td>SoHo-TriBeCa-Civic Center-Little Italy</td>\n",
       "    </tr>\n",
       "    <tr>\n",
       "      <th>2</th>\n",
       "      <td>100 Wall Investments</td>\n",
       "      <td>Jerry Branam</td>\n",
       "      <td>NaN</td>\n",
       "      <td>2122487160</td>\n",
       "      <td>96 Wall Street</td>\n",
       "      <td>New York</td>\n",
       "      <td>NY</td>\n",
       "      <td>10005</td>\n",
       "      <td>Landlord</td>\n",
       "      <td>NaN</td>\n",
       "      <td>LMEP</td>\n",
       "      <td>1238.0</td>\n",
       "      <td>NaN</td>\n",
       "      <td>NaN</td>\n",
       "      <td>01/05/2015</td>\n",
       "      <td>302959.40</td>\n",
       "      <td>1814542.62</td>\n",
       "      <td>New York</td>\n",
       "      <td>40.705052</td>\n",
       "      <td>-74.007199</td>\n",
       "      <td>101.0</td>\n",
       "      <td>1.0</td>\n",
       "      <td>7.0</td>\n",
       "      <td>1000875.0</td>\n",
       "      <td>1.000380e+09</td>\n",
       "      <td>Battery Park City-Lower Manhattan</td>\n",
       "    </tr>\n",
       "    <tr>\n",
       "      <th>3</th>\n",
       "      <td>1-10 Bush Terminal Owner LP</td>\n",
       "      <td>Andrew Kimball</td>\n",
       "      <td>akimball@industrycity.com</td>\n",
       "      <td>3474178429</td>\n",
       "      <td>220 36th St, Suite 2A</td>\n",
       "      <td>Brooklyn</td>\n",
       "      <td>NY</td>\n",
       "      <td>11232</td>\n",
       "      <td>Landlord</td>\n",
       "      <td>Special Eligible Premises for eligible businesses</td>\n",
       "      <td>ECSP</td>\n",
       "      <td>25.0</td>\n",
       "      <td>NaN</td>\n",
       "      <td>NaN</td>\n",
       "      <td>02/03/2020</td>\n",
       "      <td>2159.67</td>\n",
       "      <td>6755.31</td>\n",
       "      <td>Brooklyn</td>\n",
       "      <td>40.656061</td>\n",
       "      <td>-74.007334</td>\n",
       "      <td>307.0</td>\n",
       "      <td>38.0</td>\n",
       "      <td>2.0</td>\n",
       "      <td>3398687.0</td>\n",
       "      <td>3.006950e+09</td>\n",
       "      <td>Sunset Park West</td>\n",
       "    </tr>\n",
       "    <tr>\n",
       "      <th>4</th>\n",
       "      <td>120 Broadway Acquisitions JV, LLC (Ldmk)</td>\n",
       "      <td>Carl Letich</td>\n",
       "      <td>clettich@silvprop.com</td>\n",
       "      <td>2124064020</td>\n",
       "      <td>120 Broadway</td>\n",
       "      <td>New York</td>\n",
       "      <td>NY</td>\n",
       "      <td>10271</td>\n",
       "      <td>Commercial</td>\n",
       "      <td>NaN</td>\n",
       "      <td>LMEP</td>\n",
       "      <td>2699.0</td>\n",
       "      <td>NaN</td>\n",
       "      <td>NaN</td>\n",
       "      <td>06/30/2017</td>\n",
       "      <td>922407.32</td>\n",
       "      <td>3293055.08</td>\n",
       "      <td>New York</td>\n",
       "      <td>40.708546</td>\n",
       "      <td>-74.011041</td>\n",
       "      <td>101.0</td>\n",
       "      <td>1.0</td>\n",
       "      <td>7.0</td>\n",
       "      <td>1001026.0</td>\n",
       "      <td>1.000478e+09</td>\n",
       "      <td>Battery Park City-Lower Manhattan</td>\n",
       "    </tr>\n",
       "  </tbody>\n",
       "</table>\n",
       "</div>"
      ],
      "text/plain": [
       "                               Company Name    company contact  \\\n",
       "0                            1 State Street      David Neiburg   \n",
       "1                            100 Church LLC  Edward A. Carroll   \n",
       "2                      100 Wall Investments       Jerry Branam   \n",
       "3               1-10 Bush Terminal Owner LP     Andrew Kimball   \n",
       "4  120 Broadway Acquisitions JV, LLC (Ldmk)        Carl Letich   \n",
       "\n",
       "               company email company phone                Address      City  \\\n",
       "0     eskoblo@energyspec.com    7186779077          1114 Avenue J  Brooklyn   \n",
       "1                        NaN    2125663000      100 Church Street        NY   \n",
       "2                        NaN    2122487160         96 Wall Street  New York   \n",
       "3  akimball@industrycity.com    3474178429  220 36th St, Suite 2A  Brooklyn   \n",
       "4      clettich@silvprop.com    2124064020           120 Broadway  New York   \n",
       "\n",
       "  State  Postcode    Industry  \\\n",
       "0    NY     11230  Commercial   \n",
       "1    NY     10007  Commercial   \n",
       "2    NY     10005    Landlord   \n",
       "3    NY     11232    Landlord   \n",
       "4    NY     10271  Commercial   \n",
       "\n",
       "                                      Industry descr Company Type  \\\n",
       "0                                  35 story building         LMEP   \n",
       "1                                          21 Floors         LMEP   \n",
       "2                                                NaN         LMEP   \n",
       "3  Special Eligible Premises for eligible businesses         ECSP   \n",
       "4                                                NaN         LMEP   \n",
       "\n",
       "   Current fulltime  Job created  Job retain Effective Date  Total Savings  \\\n",
       "0               NaN          NaN         NaN     03/04/2005           0.00   \n",
       "1               NaN          NaN         NaN     04/02/2008      136578.20   \n",
       "2            1238.0          NaN         NaN     01/05/2015      302959.40   \n",
       "3              25.0          NaN         NaN     02/03/2020        2159.67   \n",
       "4            2699.0          NaN         NaN     06/30/2017      922407.32   \n",
       "\n",
       "   Savings from beginning receiving benefits   Borough   Latitude  Longitude  \\\n",
       "0                                     349.78  Brooklyn  40.624784 -73.964920   \n",
       "1                                 4423698.05  New York  40.712968 -74.009490   \n",
       "2                                 1814542.62  New York  40.705052 -74.007199   \n",
       "3                                    6755.31  Brooklyn  40.656061 -74.007334   \n",
       "4                                 3293055.08  New York  40.708546 -74.011041   \n",
       "\n",
       "   Community Board  Council District  Census Tract        BIN           BBL  \\\n",
       "0            314.0              44.0         534.0  3179818.0  3.067130e+09   \n",
       "1            101.0               1.0          21.0  1001409.0  1.001250e+09   \n",
       "2            101.0               1.0           7.0  1000875.0  1.000380e+09   \n",
       "3            307.0              38.0           2.0  3398687.0  3.006950e+09   \n",
       "4            101.0               1.0           7.0  1001026.0  1.000478e+09   \n",
       "\n",
       "                                      NTA  \n",
       "0                                 Midwood  \n",
       "1  SoHo-TriBeCa-Civic Center-Little Italy  \n",
       "2       Battery Park City-Lower Manhattan  \n",
       "3                        Sunset Park West  \n",
       "4       Battery Park City-Lower Manhattan  "
      ]
     },
     "execution_count": 2,
     "metadata": {},
     "output_type": "execute_result"
    }
   ],
   "source": [
    "# pd.set_option(\"display.max_columns\", None)\n",
    "df.head()\n",
    "# df.describe()\n",
    "# len(df)\n",
    "# sum(df['Job created'].isna())"
   ]
  },
  {
   "cell_type": "markdown",
   "id": "4e98a840",
   "metadata": {},
   "source": [
    "##### 1) How many different companies are represented in the data set?"
   ]
  },
  {
   "cell_type": "code",
   "execution_count": 3,
   "id": "1ce289f1",
   "metadata": {},
   "outputs": [
    {
     "data": {
      "text/plain": [
       "Index(['Company Name', 'company contact', 'company email', 'company phone',\n",
       "       'Address', 'City', 'State', 'Postcode', 'Industry', 'Industry descr',\n",
       "       'Company Type', 'Current fulltime', 'Job created', 'Job retain',\n",
       "       'Effective Date', 'Total Savings',\n",
       "       'Savings from beginning receiving benefits', 'Borough', 'Latitude',\n",
       "       'Longitude', 'Community Board', 'Council District', 'Census Tract',\n",
       "       'BIN', 'BBL', 'NTA'],\n",
       "      dtype='object')"
      ]
     },
     "execution_count": 3,
     "metadata": {},
     "output_type": "execute_result"
    }
   ],
   "source": [
    "df.columns\n",
    "# df['Company Name'].nunique()"
   ]
  },
  {
   "cell_type": "code",
   "execution_count": 4,
   "id": "67166641",
   "metadata": {},
   "outputs": [
    {
     "data": {
      "text/plain": [
       "439"
      ]
     },
     "execution_count": 4,
     "metadata": {},
     "output_type": "execute_result"
    }
   ],
   "source": [
    "df['Company Name'].nunique()"
   ]
  },
  {
   "cell_type": "code",
   "execution_count": 5,
   "id": "1251e426",
   "metadata": {},
   "outputs": [
    {
     "name": "stdout",
     "output_type": "stream",
     "text": [
      "2,3,2,2,2,2,2,2,2,2,"
     ]
    },
    {
     "data": {
      "text/plain": [
       "['Albert Einstein College of Medicine R&D',\n",
       " 'FEDERAL EXPRESS',\n",
       " 'FRESH DIRECT LLC',\n",
       " 'JetBlue Airways, Corp.',\n",
       " 'KEPCO, INC.',\n",
       " 'Magellan Aerospace New York, Inc',\n",
       " 'MEDITERRANEAN GYRO PRODUCTS',\n",
       " 'Montefiore Medical Center',\n",
       " 'SILVERCUP Services LLC',\n",
       " 'Spin Master, Inc.']"
      ]
     },
     "execution_count": 5,
     "metadata": {},
     "output_type": "execute_result"
    }
   ],
   "source": [
    "# repeated company \n",
    "al = df['Company Name']\n",
    "from collections import Counter\n",
    "c = Counter(al)\n",
    "cc=[]\n",
    "for i in c:\n",
    "    if c[i]>1:\n",
    "        print(c[i],end=',')\n",
    "        cc.append(i)\n",
    "cc\n",
    "# len(df)-len(cc)-1"
   ]
  },
  {
   "cell_type": "markdown",
   "id": "6d4fb815",
   "metadata": {},
   "source": [
    "##### 2) What is the total number of jobs created for businesses in Queens?"
   ]
  },
  {
   "cell_type": "code",
   "execution_count": 6,
   "id": "7f24d8d2",
   "metadata": {},
   "outputs": [],
   "source": [
    "# not clear if it means Queens listed in city or Borough:"
   ]
  },
  {
   "cell_type": "code",
   "execution_count": 7,
   "id": "e73003e8",
   "metadata": {},
   "outputs": [
    {
     "data": {
      "text/plain": [
       "90.0"
      ]
     },
     "execution_count": 7,
     "metadata": {},
     "output_type": "execute_result"
    }
   ],
   "source": [
    "# For Queens in city column\n",
    "df2 = df[(df['City']=='Queens')|(df['City']=='QUEENS')]\n",
    "df2['Job created'].sum()"
   ]
  },
  {
   "cell_type": "code",
   "execution_count": 93,
   "id": "221887a3",
   "metadata": {},
   "outputs": [
    {
     "data": {
      "text/plain": [
       "102.0"
      ]
     },
     "execution_count": 93,
     "metadata": {},
     "output_type": "execute_result"
    }
   ],
   "source": [
    "# For Queens in Borough column\n",
    "df_2 = df[(df['Borough']=='Queens')|(df['Borough']=='QUEENS')]\n",
    "df_2['Job created'].sum()"
   ]
  },
  {
   "cell_type": "markdown",
   "id": "7c58523e",
   "metadata": {},
   "source": [
    "##### 3) How many different unique email domains names are there in the data set?"
   ]
  },
  {
   "cell_type": "code",
   "execution_count": 9,
   "id": "1393e9ee",
   "metadata": {
    "scrolled": true
   },
   "outputs": [],
   "source": [
    "# df['company email'].nunique(), sum(df['company email'].isna())\n",
    "# 'not NA is: 450-17= 433"
   ]
  },
  {
   "cell_type": "code",
   "execution_count": 10,
   "id": "6c160ce5",
   "metadata": {},
   "outputs": [],
   "source": [
    "list_of_all_emails = list(df['company email'])\n",
    "# list_of_all_emails"
   ]
  },
  {
   "cell_type": "code",
   "execution_count": 11,
   "id": "de5638d3",
   "metadata": {},
   "outputs": [
    {
     "data": {
      "text/plain": [
       "428"
      ]
     },
     "execution_count": 11,
     "metadata": {},
     "output_type": "execute_result"
    }
   ],
   "source": [
    "valid_emails = []\n",
    "for i in list_of_all_emails:\n",
    "#     print(type(i),i)\n",
    "    if type(i) is str and '@' in i:\n",
    "        valid_emails.append(i)     \n",
    "len(valid_emails)\n",
    "     \n",
    "# sum(pd.DataFrame(valid_emails).isna())"
   ]
  },
  {
   "cell_type": "code",
   "execution_count": 12,
   "id": "62470ed2",
   "metadata": {},
   "outputs": [
    {
     "data": {
      "text/plain": [
       "415"
      ]
     },
     "execution_count": 12,
     "metadata": {},
     "output_type": "execute_result"
    }
   ],
   "source": [
    "unique_valid_emails_df =pd.DataFrame(valid_emails)\n",
    "unique_valid_emails_df[0].nunique()"
   ]
  },
  {
   "cell_type": "code",
   "execution_count": 13,
   "id": "bcbdfca5",
   "metadata": {},
   "outputs": [
    {
     "data": {
      "text/plain": [
       "415"
      ]
     },
     "execution_count": 13,
     "metadata": {},
     "output_type": "execute_result"
    }
   ],
   "source": [
    "#check the result:\n",
    "# duplicate emails:\n",
    "# print('number of repeats of repeated emails:')\n",
    "from collections import Counter\n",
    "c3 = Counter(valid_emails)\n",
    "c4=[]\n",
    "l=[]\n",
    "for i in c3:\n",
    "    if c3[i]>1:\n",
    "        c4.append(i)\n",
    "        l.append(c3[i])\n",
    "\n",
    "df3  = pd.DataFrame()\n",
    "df3['email']=c4\n",
    "df3['repeats']=l\n",
    "df3\n",
    "# 2 emails has been repeated 3 times\n",
    "len(valid_emails)-len(c4)-2"
   ]
  },
  {
   "cell_type": "markdown",
   "id": "7a317676",
   "metadata": {},
   "source": [
    "##### 4) Considering only NTAs with at least 5 listed businesses, what is the average total savings and the total jobs created for each NTA?"
   ]
  },
  {
   "cell_type": "markdown",
   "id": "d4729f69",
   "metadata": {},
   "source": [
    "* Effective Date :\tThe date in which the company's ECSP benefits begin\n",
    "\n",
    "* Total Savings :\tHow much money the company saved for the fiscal year\n",
    "\n",
    "* Savings from beginning receiving benefits :\tTotal amount received from the time the company started getting benefits.\n",
    "\n",
    "* Job creat :Number of Jobs Created within the year!"
   ]
  },
  {
   "cell_type": "code",
   "execution_count": 14,
   "id": "a64d9157",
   "metadata": {},
   "outputs": [
    {
     "data": {
      "text/html": [
       "<div>\n",
       "<style scoped>\n",
       "    .dataframe tbody tr th:only-of-type {\n",
       "        vertical-align: middle;\n",
       "    }\n",
       "\n",
       "    .dataframe tbody tr th {\n",
       "        vertical-align: top;\n",
       "    }\n",
       "\n",
       "    .dataframe thead th {\n",
       "        text-align: right;\n",
       "    }\n",
       "</style>\n",
       "<table border=\"1\" class=\"dataframe\">\n",
       "  <thead>\n",
       "    <tr style=\"text-align: right;\">\n",
       "      <th></th>\n",
       "      <th>total_job_created</th>\n",
       "      <th>ave_total_saving</th>\n",
       "      <th>count_of_business</th>\n",
       "    </tr>\n",
       "    <tr>\n",
       "      <th>NTA</th>\n",
       "      <th></th>\n",
       "      <th></th>\n",
       "      <th></th>\n",
       "    </tr>\n",
       "  </thead>\n",
       "  <tbody>\n",
       "    <tr>\n",
       "      <th>Battery Park City-Lower Manhattan</th>\n",
       "      <td>0.0</td>\n",
       "      <td>469890.796667</td>\n",
       "      <td>9</td>\n",
       "    </tr>\n",
       "    <tr>\n",
       "      <th>Bushwick South</th>\n",
       "      <td>10.0</td>\n",
       "      <td>26140.455000</td>\n",
       "      <td>10</td>\n",
       "    </tr>\n",
       "    <tr>\n",
       "      <th>Carroll Gardens-Columbia Street-Red Hook</th>\n",
       "      <td>0.0</td>\n",
       "      <td>24337.390000</td>\n",
       "      <td>11</td>\n",
       "    </tr>\n",
       "    <tr>\n",
       "      <th>College Point</th>\n",
       "      <td>2.0</td>\n",
       "      <td>17159.372857</td>\n",
       "      <td>7</td>\n",
       "    </tr>\n",
       "    <tr>\n",
       "      <th>Crown Heights North</th>\n",
       "      <td>0.0</td>\n",
       "      <td>4036.298889</td>\n",
       "      <td>9</td>\n",
       "    </tr>\n",
       "  </tbody>\n",
       "</table>\n",
       "</div>"
      ],
      "text/plain": [
       "                                          total_job_created  ave_total_saving  \\\n",
       "NTA                                                                             \n",
       "Battery Park City-Lower Manhattan                       0.0     469890.796667   \n",
       "Bushwick South                                         10.0      26140.455000   \n",
       "Carroll Gardens-Columbia Street-Red Hook                0.0      24337.390000   \n",
       "College Point                                           2.0      17159.372857   \n",
       "Crown Heights North                                     0.0       4036.298889   \n",
       "\n",
       "                                          count_of_business  \n",
       "NTA                                                          \n",
       "Battery Park City-Lower Manhattan                         9  \n",
       "Bushwick South                                           10  \n",
       "Carroll Gardens-Columbia Street-Red Hook                 11  \n",
       "College Point                                             7  \n",
       "Crown Heights North                                       9  "
      ]
     },
     "execution_count": 14,
     "metadata": {},
     "output_type": "execute_result"
    }
   ],
   "source": [
    "d = df.groupby('NTA').agg({'Job created':'sum','Total Savings':'mean','Company Name':'count'})\n",
    "d4 = d.rename(columns={'Job created':'total_job_created','Total Savings':'ave_total_saving','Company Name':'count_of_business'})\n",
    "d_4 = d4[d4.count_of_business>=5]\n",
    "d_4.sort_values(by=['ave_total_saving','total_job_created'],ascending=False)\n",
    "d_4.head()"
   ]
  },
  {
   "cell_type": "markdown",
   "id": "58f5b28f",
   "metadata": {},
   "source": [
    "##### 5) Save your result for the previous question as a CSV file."
   ]
  },
  {
   "cell_type": "code",
   "execution_count": 15,
   "id": "5c750c44",
   "metadata": {},
   "outputs": [],
   "source": [
    "d_4.to_csv('result_day4.csv')"
   ]
  },
  {
   "cell_type": "markdown",
   "id": "17e0fc34",
   "metadata": {},
   "source": [
    "## Day5 \n",
    "##### Milestone Action Items: use the same data set and results that you were working with in the pandas action items section (Day 4)\n",
    "* 1) scatter plot of jobs created versus average savings.Use both a standard and a logarithmic scale for the average savings.\n",
    "* 2) histogram of the log of the average total savings.\n",
    "* 3) line plot of the total jobs created for each month."
   ]
  },
  {
   "cell_type": "markdown",
   "id": "5f5a1651",
   "metadata": {},
   "source": [
    "#### Definition \n",
    "* Effective Date : The date in which the company's ECSP benefits begin\n",
    "\n",
    "* Total Savings : How much money the company saved for the fiscal year\n",
    "\n",
    "* Savings from beginning receiving benefits : Total amount received from the time the company started getting benefits.\n",
    "\n",
    "* Job creat :Number of Jobs Created within the year!\n",
    "* Job retain: Number of Jobs retained within the year\n",
    "* Last update: May 9, 2022\n",
    "\n",
    "Note: \n",
    "I used the results from Day4:"
   ]
  },
  {
   "cell_type": "markdown",
   "id": "87092061",
   "metadata": {},
   "source": [
    "##### 1) Scatter plot of jobs created versus average savings.Use both a standard and a logarithmic scale for the average savings."
   ]
  },
  {
   "cell_type": "code",
   "execution_count": 157,
   "id": "7a734f97",
   "metadata": {
    "scrolled": true
   },
   "outputs": [
    {
     "data": {
      "text/html": [
       "<div>\n",
       "<style scoped>\n",
       "    .dataframe tbody tr th:only-of-type {\n",
       "        vertical-align: middle;\n",
       "    }\n",
       "\n",
       "    .dataframe tbody tr th {\n",
       "        vertical-align: top;\n",
       "    }\n",
       "\n",
       "    .dataframe thead th {\n",
       "        text-align: right;\n",
       "    }\n",
       "</style>\n",
       "<table border=\"1\" class=\"dataframe\">\n",
       "  <thead>\n",
       "    <tr style=\"text-align: right;\">\n",
       "      <th></th>\n",
       "      <th>total_job_created</th>\n",
       "      <th>ave_total_saving</th>\n",
       "      <th>count_of_business</th>\n",
       "    </tr>\n",
       "    <tr>\n",
       "      <th>NTA</th>\n",
       "      <th></th>\n",
       "      <th></th>\n",
       "      <th></th>\n",
       "    </tr>\n",
       "  </thead>\n",
       "  <tbody>\n",
       "    <tr>\n",
       "      <th>Bushwick South</th>\n",
       "      <td>10.0</td>\n",
       "      <td>26140.455000</td>\n",
       "      <td>10</td>\n",
       "    </tr>\n",
       "    <tr>\n",
       "      <th>College Point</th>\n",
       "      <td>2.0</td>\n",
       "      <td>17159.372857</td>\n",
       "      <td>7</td>\n",
       "    </tr>\n",
       "    <tr>\n",
       "      <th>East New York</th>\n",
       "      <td>15.0</td>\n",
       "      <td>48433.093333</td>\n",
       "      <td>9</td>\n",
       "    </tr>\n",
       "    <tr>\n",
       "      <th>Hunts Point</th>\n",
       "      <td>12.0</td>\n",
       "      <td>39246.016154</td>\n",
       "      <td>13</td>\n",
       "    </tr>\n",
       "    <tr>\n",
       "      <th>Maspeth</th>\n",
       "      <td>10.0</td>\n",
       "      <td>6658.283333</td>\n",
       "      <td>9</td>\n",
       "    </tr>\n",
       "    <tr>\n",
       "      <th>Mott Haven-Port Morris</th>\n",
       "      <td>10.0</td>\n",
       "      <td>17843.937857</td>\n",
       "      <td>14</td>\n",
       "    </tr>\n",
       "    <tr>\n",
       "      <th>Steinway</th>\n",
       "      <td>20.0</td>\n",
       "      <td>11227.155714</td>\n",
       "      <td>7</td>\n",
       "    </tr>\n",
       "    <tr>\n",
       "      <th>Whitestone</th>\n",
       "      <td>10.0</td>\n",
       "      <td>62038.306667</td>\n",
       "      <td>3</td>\n",
       "    </tr>\n",
       "  </tbody>\n",
       "</table>\n",
       "</div>"
      ],
      "text/plain": [
       "                        total_job_created  ave_total_saving  count_of_business\n",
       "NTA                                                                           \n",
       "Bushwick South                       10.0      26140.455000                 10\n",
       "College Point                         2.0      17159.372857                  7\n",
       "East New York                        15.0      48433.093333                  9\n",
       "Hunts Point                          12.0      39246.016154                 13\n",
       "Maspeth                              10.0       6658.283333                  9\n",
       "Mott Haven-Port Morris               10.0      17843.937857                 14\n",
       "Steinway                             20.0      11227.155714                  7\n",
       "Whitestone                           10.0      62038.306667                  3"
      ]
     },
     "execution_count": 157,
     "metadata": {},
     "output_type": "execute_result"
    }
   ],
   "source": [
    "# using ave_saving for each NTA:\n",
    "d5 = d4.copy()\n",
    "d5.head()\n",
    "d_5 = d5[d5['total_job_created']!=0]\n",
    "d_5"
   ]
  },
  {
   "cell_type": "code",
   "execution_count": 98,
   "id": "e51a06a1",
   "metadata": {},
   "outputs": [
    {
     "data": {
      "image/png": "[encoded data removed]",
      "text/plain": [
       "<Figure size 720x504 with 3 Axes>"
      ]
     },
     "metadata": {
      "needs_background": "light"
     },
     "output_type": "display_data"
    }
   ],
   "source": [
    "fig, axes = plt.subplots(3,1,figsize=(10,7))\n",
    "ax1 = axes[0]\n",
    "x = d_5['ave_total_saving']\n",
    "y = d_5['total_job_created']\n",
    "# text = x.index\n",
    "ax1.scatter(x,y)\n",
    "ax1.set_title('jobs_created vs ave_savings for each NTAs', fontdict={'fontname': 'Comic Sans MS', 'fontsize': 15})\n",
    "\n",
    "ax1.set_ylabel('Job created',fontdict={'fontsize': 10})\n",
    "# for i in range(len(x)):\n",
    "#     ax1.annotate(x.index[i], (x[i], y[i]+0.1),horizontalalignment='center', size=8)   \n",
    "# plt.text(x.iloc[0],y.iloc[0],\"Bushwick_South\", horizontalalignment='left', size=8)\n",
    "for i in range(len(x)):\n",
    "    ax1.annotate(x.index[i], (x[i], y[i]+0.1),horizontalalignment='center', size=8)\n",
    "    \n",
    "ax2 = axes[1]\n",
    "x = d_5['ave_total_saving']\n",
    "y = d_5['total_job_created']\n",
    "ax2.set_xscale('log')\n",
    "ax2.scatter(x,y)\n",
    "# ax2.set_xlabel('Ave Savings',fontdict={'fontsize': 10})\n",
    "ax2.set_ylabel('Job created',fontdict={'fontsize': 10})\n",
    "for i in range(len(x)):\n",
    "    ax2.annotate(x.index[i], (x[i], y[i]+0.1),horizontalalignment='center', size=8)  \n",
    "\n",
    "ax3 = axes[2]\n",
    "x3=np.log(x)\n",
    "ax3.scatter(x3,y)\n",
    "ax3.set_ylabel('Job created',fontdict={'fontsize': 10})   \n",
    "ax3.set_xlabel('Ave Savings',fontdict={'fontsize': 10})\n",
    "for i in range(len(x3)):\n",
    "    ax3.annotate(x3.index[i], (x3[i], y[i]+0.1),horizontalalignment='center', size=8)\n",
    "plt.show()\n",
    "# text\n"
   ]
  },
  {
   "cell_type": "markdown",
   "id": "50a172a7",
   "metadata": {},
   "source": [
    "##### 2) histogram of the log of the average total savings."
   ]
  },
  {
   "cell_type": "code",
   "execution_count": 155,
   "id": "cb58dbc2",
   "metadata": {},
   "outputs": [
    {
     "data": {
      "image/png": "[encoded data removed]",
      "text/plain": [
       "<Figure size 432x288 with 1 Axes>"
      ]
     },
     "metadata": {
      "needs_background": "light"
     },
     "output_type": "display_data"
    }
   ],
   "source": [
    "# ave_saving for each NTAs:\n",
    "s6= d4[d4['ave_total_saving']>0]\n",
    "s6 = s6.sort_values(by=['ave_total_saving'])\n",
    "s7 = np.log10(s6['ave_total_saving'])\n",
    "plt.hist(s7,bins=30)\n",
    "plt.show()"
   ]
  },
  {
   "cell_type": "markdown",
   "id": "7f6c8f2e",
   "metadata": {},
   "source": [
    "##### 3) line plot of the total jobs created for each month.\n",
    "I was not able to find the info related to months to answer the above Q, if I had the total jobs created per months for each business, then the following could have been done:"
   ]
  },
  {
   "cell_type": "code",
   "execution_count": 14,
   "id": "df4f0b07",
   "metadata": {},
   "outputs": [],
   "source": [
    "x7 = ['Jan', 'Feb', 'March', 'Apr', 'May', \n",
    " 'June', 'July','Aug', 'Sep', 'Oct', 'Nov', 'Dec'] \n",
    "# total jobs created for each month:\n",
    "y7 = [1,2,3,4,5,6,7,8,9,10,11,12]"
   ]
  },
  {
   "cell_type": "code",
   "execution_count": 21,
   "id": "14aabb2a",
   "metadata": {},
   "outputs": [
    {
     "data": {
      "image/png": "[encoded data removed]",
      "text/plain": [
       "<Figure size 720x504 with 1 Axes>"
      ]
     },
     "metadata": {
      "needs_background": "light"
     },
     "output_type": "display_data"
    }
   ],
   "source": [
    "fig, ax1 = plt.subplots(1,1,figsize=(10,7))\n",
    "# ax1.plot(x7,y7)\n",
    "ax1.plot(x7, y7, color='b',marker='*',markerfacecolor='y')\n",
    "plt.xlabel(\"Month\")\n",
    "plt.ylabel(\"Jobs Created\")\n",
    "plt.show()\n"
   ]
  },
  {
   "cell_type": "code",
   "execution_count": null,
   "id": "aa652027",
   "metadata": {},
   "outputs": [],
   "source": []
  }
 ],
 "metadata": {
  "kernelspec": {
   "display_name": "Python 3 (ipykernel)",
   "language": "python",
   "name": "python3"
  },
  "language_info": {
   "codemirror_mode": {
    "name": "ipython",
    "version": 3
   },
   "file_extension": ".py",
   "mimetype": "text/x-python",
   "name": "python",
   "nbconvert_exporter": "python",
   "pygments_lexer": "ipython3",
   "version": "3.9.12"
  }
 },
 "nbformat": 4,
 "nbformat_minor": 5
}
